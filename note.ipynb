{
 "cells": [
  {
   "cell_type": "code",
   "execution_count": 1,
   "id": "3309f7b7",
   "metadata": {},
   "outputs": [],
   "source": [
    "import os\n",
    "\n",
    "import pandas as pd"
   ]
  },
  {
   "cell_type": "code",
   "execution_count": 4,
   "id": "8d297301",
   "metadata": {},
   "outputs": [
    {
     "name": "stdout",
     "output_type": "stream",
     "text": [
      "- Model: (`lr`, `batch_size_per_step * batch_accumulated`) => (`test_accuracy`, `test_auc`, `early_stopped_epochs`)\n",
      "  - CNN_Baseline (no_aug     ): (lr1e-05, b64x8) => (0.633099973, 0.686094403, 49)\n",
      "  - CNN_Baseline (aug_uni_5  ): (lr1e-05, b64x8) => (0.621450007, 0.664563537, 46)\n",
      "  - CNN_Baseline (aug_uni_10 ): (lr1e-05, b64x8) => (0.635749996, 0.685915947, 49)\n",
      "  - CNN_Baseline (aug_rand_5 ): (lr1e-05, b64x8) => (0.635749996, 0.685644209, 49)\n",
      "  - CNN_Baseline (aug_rand_10): (lr1e-05, b64x8) => (0.637000024, 0.686456919, 49)\n",
      "  - CNN_Light (no_aug     ): (lr5e-04, b64x8) => (0.618350029, 0.661064208, 33)\n",
      "  - CNN_Light (aug_uni_5  ): (lr5e-04, b64x8) => (0.622049987, 0.660445929, 31)\n",
      "  - CNN_Light (aug_uni_10 ): (lr5e-04, b64x8) => (0.617749989, 0.660484433, 33)\n",
      "  - CNN_Light (aug_rand_5 ): (lr5e-04, b64x8) => (0.617799997, 0.659416199, 33)\n",
      "  - CNN_Light (aug_rand_10): (lr5e-04, b64x8) => (0.619000018, 0.660369217, 33)\n",
      "  - ParT_Baseline (no_aug     ): (lr5e-05, b64x8) => (0.703000009, 0.776842833, 76)\n",
      "  - ParT_Baseline (aug_uni_5  ): (lr5e-05, b64x8) => (0.691900015, 0.758729696, 67)\n",
      "  - ParT_Baseline (aug_uni_10 ): (lr5e-05, b64x8) => (0.703000009, 0.776842833, 76)\n",
      "  - ParT_Baseline (aug_rand_5 ): (lr5e-05, b64x8) => (0.703000009, 0.776842833, 76)\n",
      "  - ParT_Baseline (aug_rand_10): (lr5e-05, b64x8) => (0.703000009, 0.776842833, 76)\n",
      "  - ParT_Medium (no_aug     ): (lr1e-04, b64x8) => (0.691699982, 0.770807981, 88)\n",
      "  - ParT_Medium (aug_uni_5  ): (lr1e-04, b64x8) => (0.683350027, 0.758591235, 77)\n",
      "  - ParT_Medium (aug_uni_10 ): (lr1e-04, b64x8) => (0.691699982, 0.770807981, 88)\n",
      "  - ParT_Medium (aug_rand_5 ): (lr1e-04, b64x8) => (0.691699982, 0.770807981, 88)\n",
      "  - ParT_Medium (aug_rand_10): (lr1e-04, b64x8) => (0.691699982, 0.770807981, 88)\n",
      "  - ParT_Light (no_aug     ): (lr5e-04, b64x8) => (0.676999986, 0.753785610, 62)\n",
      "  - ParT_Light (aug_uni_5  ): (lr5e-04, b64x8) => (0.688199997, 0.757871866, 63)\n",
      "  - ParT_Light (aug_uni_10 ): (lr5e-04, b64x8) => (0.676999986, 0.753785610, 62)\n",
      "  - ParT_Light (aug_rand_5 ): (lr5e-04, b64x8) => (0.676999986, 0.753785610, 62)\n",
      "  - ParT_Light (aug_rand_10): (lr5e-04, b64x8) => (0.676999986, 0.753785610, 62)\n",
      "  - ParT_SuperLight (no_aug     ): (lr1e-03, b64x8) => (0.694199979, 0.764561653, 68)\n",
      "  - ParT_SuperLight (aug_uni_5  ): (lr1e-03, b64x8) => (0.672550023, 0.741256773, 79)\n",
      "  - ParT_SuperLight (aug_uni_10 ): (lr1e-03, b64x8) => (0.694199979, 0.764561653, 68)\n",
      "  - ParT_SuperLight (aug_rand_5 ): (lr1e-03, b64x8) => (0.694199979, 0.764561653, 68)\n",
      "  - ParT_SuperLight (aug_rand_10): (lr1e-03, b64x8) => (0.694199979, 0.764561653, 68)\n",
      "  - ParT_ExtremeLight (no_aug     ): (lr5e-03, b64x8) => (0.677900016, 0.745643973, 100)\n",
      "  - ParT_ExtremeLight (aug_uni_5  ): (lr5e-03, b64x8) => (0.689350009, 0.757147551, 100)\n",
      "  - ParT_ExtremeLight (aug_uni_10 ): (lr5e-03, b64x8) => (0.677900016, 0.745643973, 100)\n",
      "  - ParT_ExtremeLight (aug_rand_5 ): (lr5e-03, b64x8) => (0.677900016, 0.745643973, 100)\n",
      "  - ParT_ExtremeLight (aug_rand_10): (lr5e-03, b64x8) => (0.677900016, 0.745643973, 100)\n"
     ]
    }
   ],
   "source": [
    "# result_dir = 'result-original_jet-flavor'\n",
    "# date = '20250618-095124'\n",
    "\n",
    "models = ['CNN_Baseline', 'CNN_Light', 'ParT_Baseline', 'ParT_Medium', 'ParT_Light', 'ParT_SuperLight', 'ParT_ExtremeLight']\n",
    "\n",
    "print('- Model: (`lr`, `batch_size_per_step * batch_accumulated`) => (`test_accuracy`, `test_auc`, `early_stopped_epochs`)')\n",
    "\n",
    "for model in models:\n",
    "    for date, suffix, result_dir in [\n",
    "        ('20250627-005917', 'no_aug     ', 'result-cop_jet-flavor'),\n",
    "        ('20250626-173605', 'aug_uni_5  ', 'result-cop_jet-flavor_aug_uni_5'),\n",
    "        ('20250627-051649', 'aug_uni_10 ', 'result-cop_jet-flavor_aug_uni_10'),\n",
    "        ('20250627-112145', 'aug_rand_5 ', 'result-cop_jet-flavor_aug_rand_5'),\n",
    "        ('20250627-160540', 'aug_rand_10', 'result-cop_jet-flavor_aug_rand_10')\n",
    "    ]:\n",
    "        # Select the checkpoint directory based on the date and model.\n",
    "        versions = os.listdir(os.path.join(result_dir, model))\n",
    "        try:\n",
    "            ckpt_dir = [v for v in versions if date in v][0]\n",
    "        except IndexError:\n",
    "            continue\n",
    "        \n",
    "        # Hyperparameters of the training.\n",
    "        _, lr, batch_size, seed = ckpt_dir.split('_')\n",
    "\n",
    "        # Read the metrics CSV file of the training result.\n",
    "        df = pd.read_csv(os.path.join(result_dir, model, ckpt_dir, 'metrics.csv'))\n",
    "        test_metrics = df.tail(1)\n",
    "\n",
    "        test_accuracy = test_metrics['test_accuracy'].item()\n",
    "        test_auc = test_metrics['test_auc'].item()\n",
    "        early_stopped_epochs = test_metrics['epoch'].item()\n",
    "        print(f\"  - {model} ({suffix}): ({lr}, {batch_size}) => ({test_accuracy:.9f}, {test_auc:.9f}, {early_stopped_epochs})\")"
   ]
  }
 ],
 "metadata": {
  "kernelspec": {
   "display_name": "Python 3",
   "language": "python",
   "name": "python3"
  },
  "language_info": {
   "codemirror_mode": {
    "name": "ipython",
    "version": 3
   },
   "file_extension": ".py",
   "mimetype": "text/x-python",
   "name": "python",
   "nbconvert_exporter": "python",
   "pygments_lexer": "ipython3",
   "version": "3.12.2"
  }
 },
 "nbformat": 4,
 "nbformat_minor": 5
}
