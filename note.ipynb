{
 "cells": [
  {
   "cell_type": "code",
   "execution_count": 2,
   "id": "3309f7b7",
   "metadata": {},
   "outputs": [],
   "source": [
    "import os\n",
    "\n",
    "import pandas as pd"
   ]
  },
  {
   "cell_type": "code",
   "execution_count": 3,
   "id": "8d297301",
   "metadata": {},
   "outputs": [
    {
     "name": "stdout",
     "output_type": "stream",
     "text": [
      "- Model: (`lr`, `batch_size_per_step * batch_accumulated`) => (`test_accuracy`, `test_auc`, `early_stopped_epochs`)\n",
      "  - CNN_Baseline: (lr1e-05, b64x8) => (0.635, 0.685, 49)\n",
      "  - CNN_Light: (lr5e-04, b64x8) => (0.618, 0.661, 29)\n",
      "  - ParT_Baseline: (lr5e-05, b64x8) => (0.692, 0.755, 84)\n",
      "  - ParT_Medium: (lr1e-04, b64x8) => (0.682, 0.753, 86)\n",
      "  - ParT_Light: (lr5e-04, b64x8) => (0.689, 0.754, 68)\n",
      "  - ParT_SuperLight: (lr1e-03, b64x8) => (0.685, 0.745, 80)\n",
      "  - ParT_ExtremeLight: (lr5e-03, b64x8) => (0.674, 0.741, 100)\n"
     ]
    }
   ],
   "source": [
    "result_dir = 'result-original_jet-flavor'\n",
    "date = '20250618-095124'\n",
    "models = ['CNN_Baseline', 'CNN_Light', 'ParT_Baseline', 'ParT_Medium', 'ParT_Light', 'ParT_SuperLight', 'ParT_ExtremeLight']\n",
    "\n",
    "print('- Model: (`lr`, `batch_size_per_step * batch_accumulated`) => (`test_accuracy`, `test_auc`, `early_stopped_epochs`)')\n",
    "\n",
    "for model in models:\n",
    "\n",
    "    # Select the checkpoint directory based on the date and model.\n",
    "    versions = os.listdir(os.path.join(result_dir, model))\n",
    "    try:\n",
    "        ckpt_dir = [v for v in versions if date in v][0]\n",
    "    except IndexError:\n",
    "        continue\n",
    "    \n",
    "    # Hyperparameters of the training.\n",
    "    _, lr, batch_size, seed = ckpt_dir.split('_')\n",
    "\n",
    "    # Read the metrics CSV file of the training result.\n",
    "    df = pd.read_csv(os.path.join(result_dir, model, ckpt_dir, 'metrics.csv'))\n",
    "    test_metrics = df.tail(1)\n",
    "\n",
    "    test_accuracy = test_metrics['test_accuracy'].item()\n",
    "    test_auc = test_metrics['test_auc'].item()\n",
    "    early_stopped_epochs = test_metrics['epoch'].item()\n",
    "    print(f\"  - {model}: ({lr}, {batch_size}) => ({test_accuracy:.3f}, {test_auc:.3f}, {early_stopped_epochs})\")"
   ]
  }
 ],
 "metadata": {
  "kernelspec": {
   "display_name": "Python 3",
   "language": "python",
   "name": "python3"
  },
  "language_info": {
   "codemirror_mode": {
    "name": "ipython",
    "version": 3
   },
   "file_extension": ".py",
   "mimetype": "text/x-python",
   "name": "python",
   "nbconvert_exporter": "python",
   "pygments_lexer": "ipython3",
   "version": "3.12.2"
  }
 },
 "nbformat": 4,
 "nbformat_minor": 5
}
