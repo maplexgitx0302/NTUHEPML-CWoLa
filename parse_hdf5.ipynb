{
 "cells": [
  {
   "cell_type": "code",
   "execution_count": 1,
   "metadata": {},
   "outputs": [],
   "source": [
    "import h5py\n",
    "import matplotlib.pyplot as plt\n",
    "from matplotlib.colors import LogNorm\n",
    "import numpy as np\n",
    "import torch\n",
    "\n",
    "h5_file = 'dataset/VBF.h5'"
   ]
  },
  {
   "cell_type": "code",
   "execution_count": 3,
   "metadata": {},
   "outputs": [
    {
     "name": "stdout",
     "output_type": "stream",
     "text": [
      "# GGFs: 2q0g: 16295, 1q1g: 13666, 0q2g: 3544\n",
      "# VBFs: 2q0g: 10310, 1q1g: 1579, 0q2g: 53\n"
     ]
    }
   ],
   "source": [
    "def hdf5_jet_flavor(filename):\n",
    "    \"\"\"Read *.h5 files and return the jet flavor.\"\"\"\n",
    "\n",
    "    with h5py.File(filename, 'r') as f:\n",
    "        # 1 : d, 2 : u, 3 : s, 4 : c, 5 : b, 21 : g\n",
    "\n",
    "        J1 = np.array(f['J1']['flavor'][:])\n",
    "        J1 = torch.from_numpy(J1).long()\n",
    "\n",
    "        J2 = np.array(f['J2']['flavor'][:])\n",
    "        J2 = torch.from_numpy(J2).long()\n",
    "\n",
    "        J1_q = (J1 != 21)  # Quark (1~5) + Unknown (0)\n",
    "        J1_g = (J1 == 21)  # Gluon (21)\n",
    "\n",
    "        J2_q = (J2 != 21)\n",
    "        J2_g = (J2 == 21)\n",
    "\n",
    "        J_2q0g = (J1_q & J2_q)\n",
    "        J_1q1g = (J1_q & J2_g) | (J1_g & J2_q)\n",
    "        J_0q2g = (J1_g & J2_g)\n",
    "\n",
    "    return {'2q0g': J_2q0g, '1q1g': J_1q1g, '0q2g': J_0q2g, 'total': len(J1)}\n",
    "\n",
    "GGF = hdf5_jet_flavor('dataset/GGF.h5')\n",
    "VBF = hdf5_jet_flavor('dataset/VBF.h5')\n",
    "\n",
    "L = 3000\n",
    "BR_Haa = 0.00227\n",
    "cross_section_GGF = 54.67 * 1000\n",
    "cross_section_VBF = 4.278 * 1000\n",
    "\n",
    "GGF_after_selection = cross_section_GGF * BR_Haa * L * 0.09\n",
    "GGF_2q0g = sum(GGF['2q0g']) / GGF['total'] * GGF_after_selection\n",
    "GGF_1q1g = sum(GGF['1q1g']) / GGF['total'] * GGF_after_selection\n",
    "GGF_0q2g = sum(GGF['0q2g']) / GGF['total'] * GGF_after_selection\n",
    "\n",
    "VBF_After_selection = cross_section_VBF * BR_Haa * L * 0.41\n",
    "VBF_2q0g = sum(VBF['2q0g']) / VBF['total'] * VBF_After_selection\n",
    "VBF_1q1g = sum(VBF['1q1g']) / VBF['total'] * VBF_After_selection\n",
    "VBF_0q2g = sum(VBF['0q2g']) / VBF['total'] * VBF_After_selection\n",
    "\n",
    "print(f\"# GGFs: 2q0g: {int(GGF_2q0g)}, 1q1g: {int(GGF_1q1g)}, 0q2g: {int(GGF_0q2g)}\")\n",
    "print(f\"# VBFs: 2q0g: {int(VBF_2q0g)}, 1q1g: {int(VBF_1q1g)}, 0q2g: {int(VBF_0q2g)}\")"
   ]
  },
  {
   "cell_type": "code",
   "execution_count": 38,
   "metadata": {},
   "outputs": [
    {
     "name": "stdout",
     "output_type": "stream",
     "text": [
      "Group: EVENT\n",
      "  Dataset: deta, shape = (332187,), dtype = float32\n",
      "  Dataset: mjj, shape = (332187,), dtype = float32\n",
      "  Dataset: type, shape = (332187,), dtype = int64\n",
      "Group: J1\n",
      "  Dataset: eta, shape = (332187, 50), dtype = float32\n",
      "  Dataset: flavor, shape = (332187,), dtype = int64\n",
      "  Dataset: mask, shape = (332187, 50), dtype = bool\n",
      "  Dataset: phi, shape = (332187, 50), dtype = float32\n",
      "  Dataset: pt, shape = (332187, 50), dtype = float32\n",
      "Group: J2\n",
      "  Dataset: eta, shape = (332187, 50), dtype = float32\n",
      "  Dataset: flavor, shape = (332187,), dtype = int64\n",
      "  Dataset: mask, shape = (332187, 50), dtype = bool\n",
      "  Dataset: phi, shape = (332187, 50), dtype = float32\n",
      "  Dataset: pt, shape = (332187, 50), dtype = float32\n",
      "Group: PHOTON\n",
      "  Dataset: eta, shape = (332187, 2), dtype = float32\n",
      "  Dataset: phi, shape = (332187, 2), dtype = float32\n",
      "  Dataset: pt, shape = (332187, 2), dtype = float32\n",
      "Group: TOWER\n",
      "  Dataset: eta, shape = (332187, 250), dtype = float32\n",
      "  Dataset: mask, shape = (332187, 250), dtype = bool\n",
      "  Dataset: phi, shape = (332187, 250), dtype = float32\n",
      "  Dataset: pt, shape = (332187, 250), dtype = float32\n",
      "Group: TRACK\n",
      "  Dataset: eta, shape = (332187, 150), dtype = float32\n",
      "  Dataset: mask, shape = (332187, 150), dtype = bool\n",
      "  Dataset: phi, shape = (332187, 150), dtype = float32\n",
      "  Dataset: pt, shape = (332187, 150), dtype = float32\n"
     ]
    }
   ],
   "source": [
    "with h5py.File(h5_file, 'r') as f:\n",
    "    for group_name in f.keys():\n",
    "        group = f[group_name]\n",
    "        print(f\"Group: {group_name}\")\n",
    "        for dataset_name in group.keys():\n",
    "            dataset = group[dataset_name]\n",
    "            print(f\"  Dataset: {dataset_name}, shape = {dataset.shape}, dtype = {dataset.dtype}\")"
   ]
  },
  {
   "cell_type": "code",
   "execution_count": 12,
   "metadata": {},
   "outputs": [
    {
     "data": {
      "text/plain": [
       "(162329, 9)"
      ]
     },
     "execution_count": 12,
     "metadata": {},
     "output_type": "execute_result"
    }
   ],
   "source": [
    "with h5py.File(h5_file, 'r') as f:\n",
    "    N = f['EVENT']['mjj'].shape[0]\n",
    "    \n",
    "    mjj = f['EVENT']['mjj'][:]\n",
    "    deta = f['EVENT']['deta'][:]\n",
    "    label = f['EVENT']['type'][:]  # 0: GGF, 1: VBF, etc.\n",
    "\n",
    "    photon_pt = f['PHOTON']['pt'][:, :2]    # shape (N, 2)\n",
    "    photon_eta = f['PHOTON']['eta'][:, :2]\n",
    "    photon_phi = f['PHOTON']['phi'][:, :2]\n",
    "\n",
    "    # Load tower info\n",
    "    tower_pt = f['TOWER']['pt'][:]\n",
    "    tower_phi = f['TOWER']['phi'][:]\n",
    "    tower_mask = f['TOWER']['mask'][:]\n",
    "\n",
    "    # Compute px and py\n",
    "    tower_px = tower_pt * np.cos(tower_phi)\n",
    "    tower_py = tower_pt * np.sin(tower_phi)\n",
    "\n",
    "    # Apply mask (set masked towers to 0)\n",
    "    tower_px *= tower_mask\n",
    "    tower_py *= tower_mask\n",
    "\n",
    "    # Sum vector components\n",
    "    sum_px = np.sum(tower_px, axis=1)\n",
    "    sum_py = np.sum(tower_py, axis=1)\n",
    "\n",
    "    # Compute true vector pt\n",
    "    tower_pt_vecsum = np.sqrt(sum_px**2 + sum_py**2)\n",
    "\n",
    "\n",
    "    # Combine into one big feature array\n",
    "    X = np.column_stack([\n",
    "        mjj,\n",
    "        deta,\n",
    "        photon_pt[:, 0], photon_eta[:, 0], photon_phi[:, 0],\n",
    "        photon_pt[:, 1], photon_eta[:, 1], photon_phi[:, 1],\n",
    "        tower_pt_vecsum\n",
    "    ])\n",
    "\n",
    "X.shape"
   ]
  },
  {
   "cell_type": "code",
   "execution_count": 14,
   "metadata": {},
   "outputs": [
    {
     "name": "stdout",
     "output_type": "stream",
     "text": [
      "Images shape: (162329, 3, 40, 40)\n"
     ]
    },
    {
     "data": {
      "image/png": "[encoded data removed]",
      "text/plain": [
       "<Figure size 1800x500 with 6 Axes>"
      ]
     },
     "metadata": {},
     "output_type": "display_data"
    }
   ],
   "source": [
    "channels = ['PHOTON', 'TOWER', 'TRACK']\n",
    "grid_size = 40  # Define grid size\n",
    "\n",
    "phi_bins = np.linspace(-np.pi, np.pi, grid_size + 1)\n",
    "eta_bins = np.linspace(-5, 5, grid_size + 1)\n",
    "\n",
    "with h5py.File(h5_file, 'r') as f:\n",
    "    images = []\n",
    "    \n",
    "    for channel in channels:\n",
    "        pt = f[channel]['pt'][:]\n",
    "        eta = f[channel]['eta'][:]\n",
    "        phi = f[channel]['phi'][:]\n",
    "\n",
    "        # Apply mask if available\n",
    "        if 'mask' in f[channel]:\n",
    "            mask = f[channel]['mask'][:]\n",
    "            pt = pt * mask\n",
    "        \n",
    "        # Get shapes: N events, M indices per event.\n",
    "        N, M = pt.shape\n",
    "\n",
    "        # Initialize the image array for the current channel\n",
    "        image = np.zeros((N, grid_size, grid_size))  # (N, L, L)\n",
    "        \n",
    "        # Compute indices for phi and eta\n",
    "        phi_indices = np.digitize(phi, phi_bins) - 1  # (N, M)\n",
    "        eta_indices = np.digitize(eta, eta_bins) - 1  # (N, M)\n",
    "        \n",
    "        # Ensure indices are within bounds\n",
    "        phi_indices = np.clip(phi_indices, 0, grid_size - 1)\n",
    "        eta_indices = np.clip(eta_indices, 0, grid_size - 1)\n",
    "        \n",
    "        # Create indexing arrays by flattening the 2D arrays.\n",
    "        event_idx = np.repeat(np.arange(N), M)  # (N * M,)\n",
    "        phi_idx = phi_indices.reshape(-1)   # (N * M,)\n",
    "        eta_idx = eta_indices.reshape(-1)   # (N * M,)\n",
    "        pt_flat = pt.reshape(-1)            # (N * M,)\n",
    "        \n",
    "        # Use np.add.at to accumulate the pt values at the corresponding indices.\n",
    "        np.add.at(image, (event_idx, phi_idx, eta_idx), pt_flat)\n",
    "\n",
    "        images.append(image)\n",
    "    \n",
    "    # Concatenate images along the channel axis\n",
    "    images = np.stack(images, axis=1)\n",
    "\n",
    "print(\"Images shape:\", images.shape)\n",
    "\n",
    "# ---------------- Plotting with subplots (1 row, 3 columns) ----------------\n",
    "\n",
    "fig, axs = plt.subplots(1, 3, figsize=(18, 5))\n",
    "\n",
    "for i, channel in enumerate(channels):\n",
    "    # Select the first event's image for the current channel\n",
    "    data = images[0, i, :, :]\n",
    "\n",
    "    # Mask zeros for proper log scaling\n",
    "    data_masked = np.ma.masked_where(data == 0, data)\n",
    "    \n",
    "    # Plot using pcolormesh. Note: pcolormesh expects bin edges.\n",
    "    c = axs[i].pcolormesh(eta_bins, phi_bins, data_masked,\n",
    "            norm=LogNorm(vmin=0.1, vmax=1e3), cmap='jet')\n",
    "    axs[i].set_xlabel(r'$\\eta$')\n",
    "    axs[i].set_ylabel(r'$\\phi$')\n",
    "    axs[i].set_title(f\"{channel} $p_T$ Distribution (Event 0)\")\n",
    "    fig.colorbar(c, ax=axs[i], label=r'$p_T$ [GeV]')\n",
    "\n",
    "plt.tight_layout()\n",
    "plt.show()"
   ]
  }
 ],
 "metadata": {
  "kernelspec": {
   "display_name": "Python 3",
   "language": "python",
   "name": "python3"
  },
  "language_info": {
   "codemirror_mode": {
    "name": "ipython",
    "version": 3
   },
   "file_extension": ".py",
   "mimetype": "text/x-python",
   "name": "python",
   "nbconvert_exporter": "python",
   "pygments_lexer": "ipython3",
   "version": "3.12.2"
  }
 },
 "nbformat": 4,
 "nbformat_minor": 2
}
