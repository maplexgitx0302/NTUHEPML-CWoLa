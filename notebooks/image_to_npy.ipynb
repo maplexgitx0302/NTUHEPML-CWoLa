{
 "cells": [
  {
   "cell_type": "code",
   "execution_count": 1,
   "id": "f3ca13b7",
   "metadata": {},
   "outputs": [
    {
     "name": "stdout",
     "output_type": "stream",
     "text": [
      "Project root: /home/yianchen/NTUHEPML-CWoLa\n"
     ]
    }
   ],
   "source": [
    "import os\n",
    "from pathlib import Path\n",
    "import sys\n",
    "\n",
    "import importnb\n",
    "import lightning\n",
    "import numpy as np\n",
    "import yaml\n",
    "\n",
    "try:\n",
    "    project_root = Path(__file__).parent.parent\n",
    "except NameError:\n",
    "    # Jupyter notebook environment has no __file__ attribute\n",
    "    project_root = Path.cwd().parent\n",
    "finally:\n",
    "    print(f\"Project root: {project_root}\")\n",
    "    os.environ[\"PROJECT\"] = str(project_root)\n",
    "    sys.path.append(str(project_root))\n",
    "\n",
    "with importnb.Notebook():  \n",
    "    from notebooks.main_tf import MCSimData, LitDataModule"
   ]
  },
  {
   "cell_type": "code",
   "execution_count": 2,
   "id": "b40b70e7",
   "metadata": {},
   "outputs": [],
   "source": [
    "# channel = 'VBF_diphoton'\n",
    "# data = MCSimData(project_root / 'data' / f\"{channel}.h5\", include_decay=False)\n",
    "# image = data.to_image().numpy()\n",
    "# np.save(project_root / 'output' / f\"{channel}_images.npy\", image)"
   ]
  },
  {
   "cell_type": "code",
   "execution_count": null,
   "id": "31846401",
   "metadata": {},
   "outputs": [
    {
     "name": "stderr",
     "output_type": "stream",
     "text": [
      "Seed set to 0\n"
     ]
    },
    {
     "name": "stdout",
     "output_type": "stream",
     "text": [
      "[CWoLa-Log] [signal] two quark jet: sig region: 340 events\n",
      "[CWoLa-Log] [signal] two quark jet: bkg region: 53 events\n",
      "[CWoLa-Log] [background] two quark jet: sig region: 560 events\n",
      "[CWoLa-Log] [background] two quark jet: bkg region: 562 events\n"
     ]
    }
   ],
   "source": [
    "lightning.seed_everything(0)\n",
    "\n",
    "with open(project_root / 'config' / 'data_diphoton.yml', 'r') as f:\n",
    "    data_info = yaml.safe_load(f)\n",
    "\n",
    "# Lightning data setup\n",
    "lit_data_module = LitDataModule(\n",
    "    batch_size=64,\n",
    "    data_mode='jet_flavor',\n",
    "    data_format='image',\n",
    "    data_info=data_info,\n",
    "    include_decay=True,\n",
    "    luminosity=100,\n",
    ")"
   ]
  },
  {
   "cell_type": "code",
   "execution_count": 6,
   "id": "65f2ff40",
   "metadata": {},
   "outputs": [],
   "source": [
    "np_data = lit_data_module.train_dataset.tensors[0].numpy()\n",
    "np.save(project_root / 'output' / \"train_images.npy\", np_data)"
   ]
  }
 ],
 "metadata": {
  "kernelspec": {
   "display_name": "cwola",
   "language": "python",
   "name": "python3"
  },
  "language_info": {
   "codemirror_mode": {
    "name": "ipython",
    "version": 3
   },
   "file_extension": ".py",
   "mimetype": "text/x-python",
   "name": "python",
   "nbconvert_exporter": "python",
   "pygments_lexer": "ipython3",
   "version": "3.12.11"
  }
 },
 "nbformat": 4,
 "nbformat_minor": 5
}
