{
 "cells": [
  {
   "cell_type": "code",
   "execution_count": 1,
   "id": "5b0698be",
   "metadata": {},
   "outputs": [],
   "source": [
    "import os\n",
    "from pathlib import Path\n",
    "import sys\n",
    "\n",
    "import lightning\n",
    "import numpy as np\n",
    "\n",
    "project_root = Path('/home/yianchen/NTUHEPML-CWoLa')\n",
    "sys.path.append(str(project_root))\n",
    "\n",
    "from importnb import Notebook\n",
    "\n",
    "with Notebook():\n",
    "    from notebooks.main_tf import LitDataModule\n",
    "\n",
    "np.set_printoptions(linewidth=np.inf, threshold=np.inf, precision=15, floatmode=\"unique\")  # comment out to disable"
   ]
  },
  {
   "cell_type": "code",
   "execution_count": 2,
   "id": "b5f26a62",
   "metadata": {},
   "outputs": [
    {
     "name": "stderr",
     "output_type": "stream",
     "text": [
      "Seed set to 123\n"
     ]
    },
    {
     "name": "stdout",
     "output_type": "stream",
     "text": [
      "[MCSimData Warning] /home/yianchen/NTUHEPML-CWoLa/data/VBF_diphoton.h5-TRACK has 302 / 332187 empty events.\n"
     ]
    },
    {
     "name": "stderr",
     "output_type": "stream",
     "text": [
      "/home/yianchen/NTUHEPML-CWoLa/notebooks/main_tf.ipynb:302: RuntimeWarning: Mean of empty slice\n",
      "  pt_mean = np.nanmean(pt, axis=-1, keepdims=True)\n",
      "/home/yianchen/miniconda3/envs/cwola/lib/python3.12/site-packages/numpy/lib/_nanfunctions_impl.py:2015: RuntimeWarning: Degrees of freedom <= 0 for slice.\n",
      "  var = nanvar(a, axis=axis, dtype=dtype, out=out, ddof=ddof,\n"
     ]
    },
    {
     "name": "stdout",
     "output_type": "stream",
     "text": [
      "[CWoLa-Log] [signal] two quark jet: sig region: 340 events\n",
      "[CWoLa-Log] [signal] two quark jet: bkg region: 53 events\n",
      "[CWoLa-Log] [background] two quark jet: sig region: 560 events\n",
      "[CWoLa-Log] [background] two quark jet: bkg region: 562 events\n"
     ]
    },
    {
     "name": "stderr",
     "output_type": "stream",
     "text": [
      "Seed set to 123\n"
     ]
    },
    {
     "name": "stdout",
     "output_type": "stream",
     "text": [
      "[MCSimData Log] /home/yianchen/NTUHEPML-CWoLa/data/VBF_diphoton.h5-TOWER has purity 100.0000%\n",
      "[MCSimData Log] /home/yianchen/NTUHEPML-CWoLa/data/VBF_diphoton.h5-TRACK has purity 0.0000%\n",
      "[MCSimData Warning] /home/yianchen/NTUHEPML-CWoLa/data/VBF_diphoton.h5-TRACK has 302 / 332187 empty events.\n",
      "[MCSimData Log] /home/yianchen/NTUHEPML-CWoLa/data/GGF_diphoton.h5-TOWER has purity 100.0000%\n",
      "[MCSimData Log] /home/yianchen/NTUHEPML-CWoLa/data/GGF_diphoton.h5-TRACK has purity 0.0000%\n",
      "[CWoLa-Log] [signal] two quark jet: sig region: 340 events\n",
      "[CWoLa-Log] [signal] two quark jet: bkg region: 53 events\n",
      "[CWoLa-Log] [background] two quark jet: sig region: 560 events\n",
      "[CWoLa-Log] [background] two quark jet: bkg region: 562 events\n"
     ]
    }
   ],
   "source": [
    "'''Change the hyperparameters here'''\n",
    "data_mode = 'jet_flavor'  # 'jet_flavor' or 'supervised'\n",
    "data_format = 'sequence'     # 'image' or 'sequence'\n",
    "luminosity = 100          # change the luminosity here\n",
    "data_info = {\n",
    "    'decay_channel': 'diphoton',\n",
    "    'branching_ratio': 0.00227,   # branching ratio for H -> aa\n",
    "    'signal': {\n",
    "        # change the path of dataset here\n",
    "        'path': 'data/VBF_diphoton.h5',\n",
    "        'cut_info': 'data/selection_results_VBF_quark_jet.npy',\n",
    "        'cross_section': 4278.0,    # 4.278 * 1000, precomputed\n",
    "    },\n",
    "    'background': {\n",
    "        # change the path of dataset here\n",
    "        'path': 'data/GGF_diphoton.h5',\n",
    "        'cut_info': 'data/selection_results_GGF_quark_jet.npy',\n",
    "        'cross_section': 54670.0,   # 54.67 * 1000, precomputed\n",
    "    },\n",
    "}\n",
    "\n",
    "\n",
    "# data setup\n",
    "for include_decay in [True, False]:\n",
    "    \n",
    "    lightning.seed_everything(123)\n",
    "    \n",
    "    lit_data_module = LitDataModule(\n",
    "        batch_size=512,\n",
    "        data_mode=data_mode,\n",
    "        data_format=data_format,\n",
    "        data_info=data_info,\n",
    "        include_decay=include_decay,\n",
    "        luminosity=luminosity,\n",
    "    )\n",
    "\n",
    "    prefix = 'w_photon' if include_decay else 'wo_photon'\n",
    "    output = project_root / 'data' / 'pc_photon' / f\"{prefix}-{data_format}\"\n",
    "    os.makedirs(output, exist_ok=True)\n",
    "    np.save(output / 'train_sig.npy', lit_data_module.train_sig.numpy())\n",
    "    np.save(output / 'train_bkg.npy', lit_data_module.train_bkg.numpy())\n",
    "    np.save(output / 'valid_sig.npy', lit_data_module.valid_sig.numpy())\n",
    "    np.save(output / 'valid_bkg.npy', lit_data_module.valid_bkg.numpy())\n",
    "    np.save(output / 'test_sig.npy', lit_data_module.test_sig.numpy())\n",
    "    np.save(output / 'test_bkg.npy', lit_data_module.test_bkg.numpy())"
   ]
  },
  {
   "cell_type": "code",
   "execution_count": 3,
   "id": "c2182ce7",
   "metadata": {},
   "outputs": [
    {
     "name": "stdout",
     "output_type": "stream",
     "text": [
      "[L100][w_photon-sequence] Found 46 mismatched samples out of 20000\n",
      "\n",
      "[L100][wo_photon-sequence] Found 59 mismatched samples out of 20000\n",
      "\n"
     ]
    }
   ],
   "source": [
    "L = 100\n",
    "data_format = 'sequence'\n",
    "\n",
    "for include_decay in [True, False]:\n",
    "\n",
    "    photon_file = 'w_photon' if include_decay else 'wo_photon'\n",
    "    photon_file += f\"-{data_format}\"\n",
    "\n",
    "    tf_mode = 'test'\n",
    "    tf_data = np.load(project_root / 'data' / 'tf_photon' / photon_file / f\"L{100}_seed_{123}\" / f\"X_{tf_mode}_pt_norm.npy\")\n",
    "    tf_data = tf_data.astype(np.float32)\n",
    "    if data_format == 'image':\n",
    "        tf_data = tf_data.transpose(0, 3, 1, 2)  # (N, H, W, C) -> (N, C, H, W)\n",
    "    elif data_format == 'sequence':\n",
    "        tf_data = np.nan_to_num(tf_data, nan=-1)\n",
    "\n",
    "    pc_mode = 'test'\n",
    "    pc_path = project_root / 'data' / 'pc_photon' / photon_file\n",
    "    pc_data = np.concatenate((np.load(pc_path / f\"{pc_mode}_sig.npy\"), np.load(pc_path / f\"{pc_mode}_bkg.npy\")), axis=0)\n",
    "    pc_data = pc_data.astype(np.float32)\n",
    "    if data_format == 'sequence':\n",
    "        pc_data = np.nan_to_num(pc_data, nan=-1)\n",
    "\n",
    "    if data_format == 'image':\n",
    "        assert tf_data.shape == pc_data.shape, f\"Shape mismatch: {tf_data.shape} vs {pc_data.shape}\"\n",
    "    elif data_format == 'sequence':\n",
    "        tf_data = tf_data[:, :400, :3]\n",
    "        pc_data = pc_data[:, :400, :3]\n",
    "\n",
    "    counter = 0\n",
    "\n",
    "    for i in range(len(tf_data)):\n",
    "        _tf_data, _pc_data = tf_data[i], pc_data[i]\n",
    "        diff = np.abs(_tf_data[:400] - _pc_data[:400])\n",
    "\n",
    "        atol = 1e-7\n",
    "        if not np.allclose(_tf_data[:400], _pc_data[:400], atol=atol):\n",
    "            counter += 1\n",
    "            # print(f\"Data index: {i}, Sum of absolute differences: {np.sum(diff)}\")\n",
    "            # print('TensorFlow data (TF)', _tf_data[np.where(diff > atol)].ravel())\n",
    "            # print('PyTorch data (PC)   ', _pc_data[np.where(diff > atol)].ravel())\n",
    "            # print('Diphoton from TF    ', _tf_data[400:, :].ravel())\n",
    "            # print()\n",
    "            # if counter > 5:\n",
    "            #     break\n",
    "\n",
    "    print(f\"[L{L}][{photon_file}] Found {counter} mismatched samples out of {len(tf_data)}\\n\")"
   ]
  }
 ],
 "metadata": {
  "kernelspec": {
   "display_name": "cwola",
   "language": "python",
   "name": "python3"
  },
  "language_info": {
   "codemirror_mode": {
    "name": "ipython",
    "version": 3
   },
   "file_extension": ".py",
   "mimetype": "text/x-python",
   "name": "python",
   "nbconvert_exporter": "python",
   "pygments_lexer": "ipython3",
   "version": "3.12.11"
  }
 },
 "nbformat": 4,
 "nbformat_minor": 5
}
