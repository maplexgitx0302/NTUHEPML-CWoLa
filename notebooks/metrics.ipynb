{
 "cells": [
  {
   "cell_type": "markdown",
   "id": "03be0381",
   "metadata": {},
   "source": [
    "## Metrics (Training Results)\n",
    "\n",
    "This notebook shows the training results of different models, including CNN and Particle Transformer. Most of the training results are repeated 5 times with different random seeds.\n",
    "\n",
    "The signal and background were set to be Higgs from VBF and GGF, respectively."
   ]
  },
  {
   "cell_type": "code",
   "execution_count": null,
   "id": "1ccbd0b7",
   "metadata": {},
   "outputs": [],
   "source": [
    "from pathlib import Path\n",
    "\n",
    "import pandas as pd\n",
    "\n",
    "project_root = Path.cwd().parent\n",
    "\n",
    "def print_metrics(channel: str, data_mode: str, date_time: str, information: str = ''):\n",
    "\n",
    "    print(f\"# Metrics for {channel}/{data_mode} at {date_time}\" + f\" ({information})\" * (bool(information)))\n",
    "\n",
    "    for model in ['CNN_Baseline', 'CNN_EventCNN', 'ParT_Baseline', 'ParT_Light']:\n",
    "\n",
    "        df = pd.DataFrame()\n",
    "\n",
    "        for rnd_seed in range(1, 6):\n",
    "            output_dir = project_root / Path('output')\n",
    "            metrics_dir = output_dir / Path(channel) / Path(data_mode) / Path(model) / Path(f'{date_time}-rnd_seed{rnd_seed}')\n",
    "            metrics_file = metrics_dir / Path('metrics.csv')\n",
    "            df_tmp = pd.read_csv(metrics_file)\n",
    "\n",
    "            # The last row contains the test metrics.\n",
    "            df = pd.concat([df, df_tmp.tail(1)], ignore_index=True)\n",
    "\n",
    "        print(f\"{model:<15}: ACC {df['test_accuracy'].mean():.3f} ± {df['test_accuracy'].std():.3f}\", end=' | ')\n",
    "        print(f\"AUC {df['test_auc'].mean():.3f} ± {df['test_auc'].std():.3f}\", end=' | ')\n",
    "        print(f\"Epochs {df['epoch'].mean():.1f} ± {df['epoch'].std():.1f}\", end='\\n')\n",
    "\n",
    "    print('\\n' + '-' * 80 + '\\n')"
   ]
  },
  {
   "cell_type": "markdown",
   "id": "e53036cb",
   "metadata": {},
   "source": [
    "## Higgs decays to diphoton"
   ]
  },
  {
   "cell_type": "markdown",
   "id": "bec53975",
   "metadata": {},
   "source": [
    "### >>> Augmentation with $\\phi$-rotations\n",
    "\n",
    "This dataset is from the decay channel of $H \\rightarrow \\gamma\\gamma$, with $L=3000~\\text{fb}^{-1}$. The following data modes cover different number of augmentations with uniform $\\phi$-rotations. The number in the suffix indicates how many augmentations.\n",
    "\n",
    "- `jet_flavor`: indicating that the mixed training dataset is split by jet flavor, i.e., '2q0g' vs. '1q1g+0q2g'.\n",
    "- `ex-diphoton`: trained without diphoton information.\n",
    "- `diphoton`: trained with diphoton information."
   ]
  },
  {
   "cell_type": "code",
   "execution_count": null,
   "id": "160f703d",
   "metadata": {},
   "outputs": [],
   "source": [
    "for data_mode in ['jet_flavor', 'jet_flavor_uni5', 'jet_flavor_uni10', 'jet_flavor_uni15']:\n",
    "    print_metrics(channel='ex-diphoton', data_mode=data_mode, date_time='20250721_121840')\n",
    "    print_metrics(channel='diphoton', data_mode=data_mode, date_time='20250723_173318')"
   ]
  },
  {
   "cell_type": "markdown",
   "id": "783b46fd",
   "metadata": {},
   "source": [
    "### >>> $p_T$ smearing\n",
    "\n",
    "In this setup, we compared the 5 times larger dataset augmented with $p_T$-smearing, where the smearing formula is given by\n",
    "\n",
    "\\begin{equation*}\n",
    "    p_T \\sim \\mathcal{N}(p_T, \\sigma(p_T)) \\quad \\text{with} \\quad \\sigma(p_T) = \\sqrt{0.052 p_T^2 + 1.502 p_T}.\n",
    "\\end{equation*}"
   ]
  },
  {
   "cell_type": "code",
   "execution_count": null,
   "id": "21b3b86d",
   "metadata": {},
   "outputs": [],
   "source": [
    "for data_mode in ['jet_flavor']:\n",
    "    print_metrics(channel='ex-diphoton', data_mode=data_mode, date_time='20250721_121840')\n",
    "    print_metrics(channel='diphoton', data_mode=data_mode, date_time='20250723_173318')\n",
    "\n",
    "for data_mode in ['jet_flavor_pt_smear']:\n",
    "    print_metrics(channel='ex-diphoton', data_mode=data_mode, date_time='20250726_092055')\n",
    "    print_metrics(channel='diphoton', data_mode=data_mode, date_time='20250726_092055')"
   ]
  },
  {
   "cell_type": "markdown",
   "id": "b53bb474",
   "metadata": {},
   "source": [
    "#### Test $L=300~\\text{fb}^{-1}$ with $\\phi$-augmentation"
   ]
  },
  {
   "cell_type": "code",
   "execution_count": null,
   "id": "1245b8fe",
   "metadata": {},
   "outputs": [],
   "source": [
    "for data_mode in ['jet_flavor', 'jet_flavor_uni5', 'jet_flavor_uni10', 'jet_flavor_uni15']:\n",
    "    print_metrics(channel='diphoton', data_mode=data_mode, date_time='20250729_154839')\n",
    "    print_metrics(channel='ex-diphoton', data_mode=data_mode, date_time='20250731_015137')"
   ]
  },
  {
   "cell_type": "markdown",
   "id": "40dbf42d",
   "metadata": {},
   "source": [
    "## Higgs decays to four leptons"
   ]
  },
  {
   "cell_type": "markdown",
   "id": "915c6808",
   "metadata": {},
   "source": [
    "### >>> CWoLa with different luminosities\n",
    "\n",
    "Since the dataset of $H \\rightarrow 4l$ is too small with $L=3000~\\text{fb}^{-1}$, we tested different luminosities.\n",
    "\n",
    "- `20250725_142111`: excluding 4 leptons information, with $L=3000~\\text{fb}^{-1}$\n",
    "- `20250727_200515`: excluding 4 leptons information, with $L=30000~\\text{fb}^{-1}$\n",
    "- `20250727_151539`: including 4 leptons information, with $L=3000~\\text{fb}^{-1}$\n",
    "- `20250728_121738`: including 4 leptons information, with $L=30000~\\text{fb}^{-1}$"
   ]
  },
  {
   "cell_type": "code",
   "execution_count": null,
   "id": "11a223f1",
   "metadata": {},
   "outputs": [],
   "source": [
    "for data_mode in ['jet_flavor', 'jet_flavor_uni5', 'jet_flavor_uni10', 'jet_flavor_uni15']:\n",
    "    print_metrics(channel='ex-zz4l', data_mode=data_mode, date_time='20250725_142111', information='L = 3000 fb^{-1}')\n",
    "    print_metrics(channel='ex-zz4l', data_mode=data_mode, date_time='20250727_200515', information='L = 30000 fb^{-1}')\n",
    "    print_metrics(channel='zz4l', data_mode=data_mode, date_time='20250727_151539', information='L = 3000 fb^{-1}')\n",
    "    print_metrics(channel='zz4l', data_mode=data_mode, date_time='20250728_121738', information='L = 30000 fb^{-1}')"
   ]
  }
 ],
 "metadata": {
  "kernelspec": {
   "display_name": "cwola",
   "language": "python",
   "name": "python3"
  },
  "language_info": {
   "codemirror_mode": {
    "name": "ipython",
    "version": 3
   },
   "file_extension": ".py",
   "mimetype": "text/x-python",
   "name": "python",
   "nbconvert_exporter": "python",
   "pygments_lexer": "ipython3",
   "version": "3.12.11"
  }
 },
 "nbformat": 4,
 "nbformat_minor": 5
}
