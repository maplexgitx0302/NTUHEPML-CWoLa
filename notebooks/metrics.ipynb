{
 "cells": [
  {
   "cell_type": "markdown",
   "id": "03be0381",
   "metadata": {},
   "source": [
    "## Metrics (Training Results)\n",
    "\n",
    "This notebook shows the training results of different models, including CNN and Particle Transformer. Most of the training results are repeated 5 times with different random seeds.\n",
    "\n",
    "The signal and background were set to be Higgs from VBF and GGF, respectively."
   ]
  },
  {
   "cell_type": "code",
   "execution_count": null,
   "id": "1ccbd0b7",
   "metadata": {},
   "outputs": [],
   "source": [
    "from pathlib import Path\n",
    "import pandas as pd\n",
    "\n",
    "# Define the root of the project\n",
    "project_root = Path.cwd().parent\n",
    "\n",
    "def print_metrics(channel: str, data_mode: str, date_time: str, information: str = ''):\n",
    "    \"\"\"Print summary metrics for different models under given configuration.\"\"\"\n",
    "\n",
    "    # Print header\n",
    "    info_suffix = f\" ({information})\" if information else \"\"\n",
    "    print(f\"# Metrics for {channel}/{data_mode} at {date_time}{info_suffix}\")\n",
    "\n",
    "    # Define path to metrics output\n",
    "    output_dir = project_root / 'output' / channel / data_mode\n",
    "\n",
    "    # Loop through models\n",
    "    for model in ['CNN_Baseline', 'CNN_EventCNN', 'ParT_Baseline', 'ParT_Light']:\n",
    "        model_dir = output_dir / model\n",
    "        if not model_dir.exists():\n",
    "            continue\n",
    "\n",
    "        # Collect metrics from each random seed run\n",
    "        metrics = []\n",
    "        rnd_seed = 1\n",
    "\n",
    "        while True:\n",
    "            metrics_file = model_dir / f'{date_time}-rnd_seed{rnd_seed}' / 'metrics.csv'\n",
    "            if not metrics_file.exists():\n",
    "                break\n",
    "\n",
    "            df_tmp = pd.read_csv(metrics_file)\n",
    "            metrics.append(df_tmp.tail(1))  # Use the last row (test result)\n",
    "            rnd_seed += 1\n",
    "\n",
    "        # Print summary statistics if any runs were found\n",
    "        if metrics:\n",
    "            df = pd.concat(metrics, ignore_index=True)\n",
    "            acc_mean, acc_std = df['test_accuracy'].mean(), df['test_accuracy'].std()\n",
    "            auc_mean, auc_std = df['test_auc'].mean(), df['test_auc'].std()\n",
    "            epoch_mean, epoch_std = df['epoch'].mean(), df['epoch'].std()\n",
    "\n",
    "            print(f\"{model:<15} ({rnd_seed - 1} runs): \"\n",
    "                  f\"ACC {acc_mean:.3f} ± {acc_std:.3f} | \"\n",
    "                  f\"AUC {auc_mean:.3f} ± {auc_std:.3f} | \"\n",
    "                  f\"Epochs {epoch_mean:.1f} ± {epoch_std:.1f}\")\n",
    "\n",
    "    print('\\n' + '-' * 80 + '\\n')\n"
   ]
  },
  {
   "cell_type": "markdown",
   "id": "e53036cb",
   "metadata": {},
   "source": [
    "## $H \\rightarrow \\gamma \\gamma$"
   ]
  },
  {
   "cell_type": "markdown",
   "id": "bec53975",
   "metadata": {},
   "source": [
    "### >>> Augmentation with $\\phi$-rotations\n",
    "\n",
    "This dataset is from the decay channel of $H \\rightarrow \\gamma\\gamma$, with $L=3000~\\text{fb}^{-1}$. The following data modes cover different number of augmentations with uniform $\\phi$-rotations. The number in the suffix indicates how many augmentations.\n",
    "\n",
    "- `jet_flavor`: indicating that the mixed training dataset is split by jet flavor, i.e., '2q0g' vs. '1q1g+0q2g'.\n",
    "- `ex-diphoton`: trained without diphoton information.\n",
    "- `diphoton`: trained with diphoton information."
   ]
  },
  {
   "cell_type": "code",
   "execution_count": null,
   "id": "160f703d",
   "metadata": {},
   "outputs": [],
   "source": [
    "for data_mode in ['jet_flavor', 'jet_flavor_uni5', 'jet_flavor_uni10', 'jet_flavor_uni15']:\n",
    "    print_metrics(channel='diphoton', data_mode=data_mode, date_time='20250723_173318')\n",
    "    print_metrics(channel='ex-diphoton', data_mode=data_mode, date_time='20250721_121840')"
   ]
  },
  {
   "cell_type": "markdown",
   "id": "783b46fd",
   "metadata": {},
   "source": [
    "### >>> $p_T$ smearing\n",
    "\n",
    "In this setup, we compared the 5 times larger dataset augmented with $p_T$-smearing, where the smearing formula is given by\n",
    "\n",
    "\\begin{equation*}\n",
    "    p_T \\sim \\mathcal{N}(p_T, \\sigma(p_T)) \\quad \\text{with} \\quad \\sigma(p_T) = \\sqrt{0.052 p_T^2 + 1.502 p_T}.\n",
    "\\end{equation*}"
   ]
  },
  {
   "cell_type": "code",
   "execution_count": null,
   "id": "21b3b86d",
   "metadata": {},
   "outputs": [],
   "source": [
    "for data_mode in ['jet_flavor']:\n",
    "    print_metrics(channel='ex-diphoton', data_mode=data_mode, date_time='20250721_121840')\n",
    "    print_metrics(channel='diphoton', data_mode=data_mode, date_time='20250723_173318')\n",
    "\n",
    "for data_mode in ['jet_flavor_pt_smear']:\n",
    "    print_metrics(channel='ex-diphoton', data_mode=data_mode, date_time='20250726_092055')\n",
    "    print_metrics(channel='diphoton', data_mode=data_mode, date_time='20250726_092055')"
   ]
  },
  {
   "cell_type": "markdown",
   "id": "b53bb474",
   "metadata": {},
   "source": [
    "### >>> Test $L=300~\\text{fb}^{-1}$ with $\\phi$-augmentation"
   ]
  },
  {
   "cell_type": "code",
   "execution_count": null,
   "id": "1245b8fe",
   "metadata": {},
   "outputs": [],
   "source": [
    "for data_mode in ['jet_flavor', 'jet_flavor_uni5', 'jet_flavor_uni10', 'jet_flavor_uni15']:\n",
    "    print_metrics(channel='diphoton', data_mode=data_mode, date_time='20250729_154839')\n",
    "    print_metrics(channel='ex-diphoton', data_mode=data_mode, date_time='20250731_015137')"
   ]
  },
  {
   "cell_type": "markdown",
   "id": "2c9249de",
   "metadata": {},
   "source": [
    "### >>> Supervised with proprocessings (`cop`+`pt_norm`)\n",
    "\n",
    "Trained with true labels, instead of using CWoLa setup such as split with jet flavor.\n",
    "\n",
    "Number of data: `num_train = 100000`, `num_valid = 25000`, `num_test = 25000`"
   ]
  },
  {
   "cell_type": "code",
   "execution_count": null,
   "id": "50efd129",
   "metadata": {},
   "outputs": [],
   "source": [
    "for data_mode in ['supervised']:\n",
    "    print_metrics(channel='diphoton', data_mode=data_mode, date_time='20250806_214603')\n",
    "    print_metrics(channel='ex-diphoton', data_mode=data_mode, date_time='20250806_214603')"
   ]
  },
  {
   "cell_type": "markdown",
   "id": "1a49b92b",
   "metadata": {},
   "source": [
    "### >>> Test $L=100,1800,3000~\\text{fb}^{-1}$ with preprocessings"
   ]
  },
  {
   "cell_type": "code",
   "execution_count": null,
   "id": "ce840f79",
   "metadata": {},
   "outputs": [],
   "source": [
    "for data_mode in ['jet_flavor']:\n",
    "    print_metrics(channel='diphoton', data_mode=data_mode, date_time='20250804_155424', information='L=100')\n",
    "    print_metrics(channel='ex-diphoton', data_mode=data_mode, date_time='20250804_155424', information='L=100')\n",
    "    print_metrics(channel='diphoton', data_mode=data_mode, date_time='20250805_170948', information='L=1800')\n",
    "    print_metrics(channel='ex-diphoton', data_mode=data_mode, date_time='20250805_170948', information='L=1800')\n",
    "    print_metrics(channel='diphoton', data_mode=data_mode, date_time='20250805_220406', information='L=3000')\n",
    "    print_metrics(channel='ex-diphoton', data_mode=data_mode, date_time='20250805_220406', information='L=3000')"
   ]
  },
  {
   "cell_type": "markdown",
   "id": "40dbf42d",
   "metadata": {},
   "source": [
    "## $H \\rightarrow ZZ \\rightarrow 4l$"
   ]
  },
  {
   "cell_type": "markdown",
   "id": "915c6808",
   "metadata": {},
   "source": [
    "### >>> CWoLa with different luminosities\n",
    "\n",
    "Since the dataset of $H \\rightarrow 4l$ is too small with $L=3000~\\text{fb}^{-1}$, we tested different luminosities.\n",
    "\n",
    "- `20250725_142111`: excluding 4 leptons information, with $L=3000~\\text{fb}^{-1}$\n",
    "- `20250727_200515`: excluding 4 leptons information, with $L=30000~\\text{fb}^{-1}$\n",
    "- `20250727_151539`: including 4 leptons information, with $L=3000~\\text{fb}^{-1}$\n",
    "- `20250728_121738`: including 4 leptons information, with $L=30000~\\text{fb}^{-1}$"
   ]
  },
  {
   "cell_type": "code",
   "execution_count": null,
   "id": "11a223f1",
   "metadata": {},
   "outputs": [],
   "source": [
    "for data_mode in ['jet_flavor', 'jet_flavor_uni5', 'jet_flavor_uni10', 'jet_flavor_uni15']:\n",
    "    print_metrics(channel='ex-zz4l', data_mode=data_mode, date_time='20250725_142111', information='L = 3000 fb^{-1}')\n",
    "    print_metrics(channel='ex-zz4l', data_mode=data_mode, date_time='20250727_200515', information='L = 30000 fb^{-1}')\n",
    "    print_metrics(channel='zz4l', data_mode=data_mode, date_time='20250727_151539', information='L = 3000 fb^{-1}')\n",
    "    print_metrics(channel='zz4l', data_mode=data_mode, date_time='20250728_121738', information='L = 30000 fb^{-1}')"
   ]
  },
  {
   "cell_type": "markdown",
   "id": "365cf2a0",
   "metadata": {},
   "source": [
    "## $H \\rightarrow \\gamma\\gamma$ + $H \\rightarrow ZZ \\rightarrow 4l$"
   ]
  },
  {
   "cell_type": "markdown",
   "id": "96a43fa1",
   "metadata": {},
   "source": [
    "### >>> Combine two dataset with $L = 300~\\text{fb}^{-1}$"
   ]
  },
  {
   "cell_type": "code",
   "execution_count": null,
   "id": "cd7ce75c",
   "metadata": {},
   "outputs": [],
   "source": [
    "for data_mode in ['jet_flavor', 'jet_flavor_uni5', 'jet_flavor_uni10', 'jet_flavor_uni15']:\n",
    "    print_metrics(channel='diphoton_zz4l', data_mode=data_mode, date_time='20250802_090922', information='L = 300 fb^{-1}')\n",
    "    print_metrics(channel='ex-diphoton_zz4l', data_mode=data_mode, date_time='20250802_001209', information='L = 300 fb^{-1}')"
   ]
  }
 ],
 "metadata": {
  "kernelspec": {
   "display_name": "cwola",
   "language": "python",
   "name": "python3"
  },
  "language_info": {
   "codemirror_mode": {
    "name": "ipython",
    "version": 3
   },
   "file_extension": ".py",
   "mimetype": "text/x-python",
   "name": "python",
   "nbconvert_exporter": "python",
   "pygments_lexer": "ipython3",
   "version": "3.12.11"
  }
 },
 "nbformat": 4,
 "nbformat_minor": 5
}
