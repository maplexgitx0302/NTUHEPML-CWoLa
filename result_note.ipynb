{
 "cells": [
  {
   "cell_type": "code",
   "execution_count": null,
   "id": "3309f7b7",
   "metadata": {},
   "outputs": [],
   "source": [
    "import os\n",
    "\n",
    "import pandas as pd"
   ]
  },
  {
   "cell_type": "code",
   "execution_count": null,
   "id": "8d297301",
   "metadata": {},
   "outputs": [],
   "source": [
    "models = [\n",
    "    'CNN_EventCNN', 'CNN_Baseline', 'CNN_Light',\n",
    "    'ParT_Baseline', 'ParT_Medium', 'ParT_Light', 'ParT_SuperLight', 'ParT_ExtremeLight'\n",
    "]\n",
    "\n",
    "print('- Model: $(\\\\eta, N_\\\\text{step}, N_\\\\text{accum}) \\\\Rightarrow (ACC_\\\\text{test}, AUC_\\\\text{test}, E_\\\\text{early})$')\n",
    "\n",
    "for model in models:\n",
    "    for date, suffix, channel, result_dir in [\n",
    "        # ('20250713-173545', '', 'diphoton', 'ex-decay_jet-flavor'),\n",
    "        # ('20250713-173106', '', 'diphoton', 'original_jet-flavor'),\n",
    "\n",
    "        ('20250713-235925', 'in_decay', 'zz4l', 'original_jet-flavor'),\n",
    "        ('20250713-230707', 'ex_decay', 'zz4l', 'ex-decay_jet-flavor'),\n",
    "    ]:\n",
    "        # Select the checkpoint directory based on the date and model.\n",
    "        training_logs_dir = os.path.join(f\"result-{channel}\", result_dir, model)\n",
    "        versions = os.listdir(training_logs_dir)\n",
    "        try:\n",
    "            ckpt_dir = [v for v in versions if date in v][0]\n",
    "        except IndexError:\n",
    "            continue\n",
    "\n",
    "        # Hyperparameters of the training.\n",
    "        _, lr, batch_size, seed = ckpt_dir.split('_')\n",
    "\n",
    "        # Read the metrics CSV file of the training result.\n",
    "        df = pd.read_csv(os.path.join(training_logs_dir, ckpt_dir, 'metrics.csv'))\n",
    "\n",
    "        # The last row contains the test metrics.\n",
    "        test_metrics = df.tail(1)\n",
    "        test_accuracy = test_metrics['test_accuracy'].item()\n",
    "        test_auc = test_metrics['test_auc'].item()\n",
    "        early_stopped_epochs = test_metrics['epoch'].item()\n",
    "\n",
    "        print(f\"  - {model}: ({lr}, {batch_size}) $\\\\Rightarrow$ ({test_accuracy:.3f}, {test_auc:.3f}, {early_stopped_epochs}) # ({date}) {suffix}\")"
   ]
  }
 ],
 "metadata": {
  "kernelspec": {
   "display_name": "3.12.2",
   "language": "python",
   "name": "python3"
  },
  "language_info": {
   "codemirror_mode": {
    "name": "ipython",
    "version": 3
   },
   "file_extension": ".py",
   "mimetype": "text/x-python",
   "name": "python",
   "nbconvert_exporter": "python",
   "pygments_lexer": "ipython3",
   "version": "3.12.2"
  }
 },
 "nbformat": 4,
 "nbformat_minor": 5
}
