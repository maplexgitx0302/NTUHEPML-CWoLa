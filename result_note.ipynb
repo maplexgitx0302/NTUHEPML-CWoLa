{
 "cells": [
  {
   "cell_type": "code",
   "execution_count": 1,
   "id": "3309f7b7",
   "metadata": {},
   "outputs": [],
   "source": [
    "import os\n",
    "\n",
    "import pandas as pd"
   ]
  },
  {
   "cell_type": "code",
   "execution_count": 2,
   "id": "8d297301",
   "metadata": {},
   "outputs": [
    {
     "name": "stdout",
     "output_type": "stream",
     "text": [
      "- Model: $(\\eta, N_\\text{step}, N_\\text{accum}) \\Rightarrow (ACC_\\text{test}, AUC_\\text{test}, E_\\text{early})$\n",
      "  - CNN_Baseline: (lr1e-05, b64x8) $\\Rightarrow$ (0.633, 0.686, 49) # (20250627-005917) no_aug     \n",
      "  - CNN_Baseline: (lr1e-05, b64x8) $\\Rightarrow$ (0.649, 0.703, 34) # (20250629-140436) aug_uni_5  \n",
      "  - CNN_Baseline: (lr1e-05, b64x8) $\\Rightarrow$ (0.649, 0.709, 28) # (20250630-003624) aug_uni_10 \n",
      "  - CNN_Baseline: (lr1e-05, b64x8) $\\Rightarrow$ (0.633, 0.693, 34) # (20250629-210815) aug_rand_5 \n",
      "  - CNN_Baseline: (lr1e-05, b64x8) $\\Rightarrow$ (0.643, 0.699, 30) # (20250629-025748) aug_rand_10\n",
      "  - CNN_Light: (lr5e-04, b64x8) $\\Rightarrow$ (0.618, 0.661, 33) # (20250627-005917) no_aug     \n",
      "  - CNN_Light: (lr5e-04, b64x8) $\\Rightarrow$ (0.675, 0.740, 31) # (20250629-140436) aug_uni_5  \n",
      "  - CNN_Light: (lr5e-04, b64x8) $\\Rightarrow$ (0.683, 0.755, 28) # (20250630-003624) aug_uni_10 \n",
      "  - CNN_Light: (lr5e-04, b64x8) $\\Rightarrow$ (0.667, 0.732, 32) # (20250629-210815) aug_rand_5 \n",
      "  - CNN_Light: (lr5e-04, b64x8) $\\Rightarrow$ (0.674, 0.731, 30) # (20250629-025748) aug_rand_10\n",
      "  - ParT_Baseline: (lr5e-05, b64x8) $\\Rightarrow$ (0.703, 0.777, 76) # (20250627-005917) no_aug     \n",
      "  - ParT_Baseline: (lr5e-05, b64x8) $\\Rightarrow$ (0.688, 0.775, 47) # (20250629-140436) aug_uni_5  \n",
      "  - ParT_Baseline: (lr5e-05, b64x8) $\\Rightarrow$ (0.692, 0.759, 36) # (20250630-003624) aug_uni_10 \n",
      "  - ParT_Baseline: (lr5e-05, b64x8) $\\Rightarrow$ (0.704, 0.776, 43) # (20250629-210815) aug_rand_5 \n",
      "  - ParT_Baseline: (lr5e-05, b64x8) $\\Rightarrow$ (0.709, 0.790, 28) # (20250629-025748) aug_rand_10\n",
      "  - ParT_Medium: (lr1e-04, b64x8) $\\Rightarrow$ (0.692, 0.771, 88) # (20250627-005917) no_aug     \n",
      "  - ParT_Medium: (lr1e-04, b64x8) $\\Rightarrow$ (0.670, 0.744, 52) # (20250629-140436) aug_uni_5  \n",
      "  - ParT_Medium: (lr1e-04, b64x8) $\\Rightarrow$ (0.703, 0.772, 33) # (20250630-003624) aug_uni_10 \n",
      "  - ParT_Medium: (lr1e-04, b64x8) $\\Rightarrow$ (0.695, 0.763, 46) # (20250629-210815) aug_rand_5 \n",
      "  - ParT_Medium: (lr1e-04, b64x8) $\\Rightarrow$ (0.673, 0.742, 36) # (20250629-025748) aug_rand_10\n",
      "  - ParT_Light: (lr5e-04, b64x8) $\\Rightarrow$ (0.677, 0.754, 62) # (20250627-005917) no_aug     \n",
      "  - ParT_Light: (lr5e-04, b64x8) $\\Rightarrow$ (0.695, 0.759, 31) # (20250629-140436) aug_uni_5  \n",
      "  - ParT_Light: (lr5e-04, b64x8) $\\Rightarrow$ (0.688, 0.752, 28) # (20250630-003624) aug_uni_10 \n",
      "  - ParT_Light: (lr5e-04, b64x8) $\\Rightarrow$ (0.700, 0.764, 30) # (20250629-210815) aug_rand_5 \n",
      "  - ParT_Light: (lr5e-04, b64x8) $\\Rightarrow$ (0.694, 0.763, 29) # (20250629-025748) aug_rand_10\n",
      "  - ParT_SuperLight: (lr1e-03, b64x8) $\\Rightarrow$ (0.694, 0.765, 68) # (20250627-005917) no_aug     \n",
      "  - ParT_SuperLight: (lr1e-03, b64x8) $\\Rightarrow$ (0.705, 0.762, 39) # (20250629-140436) aug_uni_5  \n",
      "  - ParT_SuperLight: (lr1e-03, b64x8) $\\Rightarrow$ (0.683, 0.750, 33) # (20250630-003624) aug_uni_10 \n",
      "  - ParT_SuperLight: (lr1e-03, b64x8) $\\Rightarrow$ (0.691, 0.755, 38) # (20250629-210815) aug_rand_5 \n",
      "  - ParT_SuperLight: (lr1e-03, b64x8) $\\Rightarrow$ (0.662, 0.735, 37) # (20250629-025748) aug_rand_10\n",
      "  - ParT_ExtremeLight: (lr5e-03, b64x8) $\\Rightarrow$ (0.678, 0.746, 100) # (20250627-005917) no_aug     \n",
      "  - ParT_ExtremeLight: (lr5e-03, b64x8) $\\Rightarrow$ (0.690, 0.743, 58) # (20250629-140436) aug_uni_5  \n",
      "  - ParT_ExtremeLight: (lr5e-03, b64x8) $\\Rightarrow$ (0.693, 0.764, 48) # (20250630-003624) aug_uni_10 \n",
      "  - ParT_ExtremeLight: (lr5e-03, b64x8) $\\Rightarrow$ (0.688, 0.749, 78) # (20250629-210815) aug_rand_5 \n",
      "  - ParT_ExtremeLight: (lr5e-03, b64x8) $\\Rightarrow$ (0.689, 0.749, 43) # (20250629-025748) aug_rand_10\n"
     ]
    }
   ],
   "source": [
    "# result_dir = 'result-original_jet-flavor'\n",
    "# date = '20250618-095124'\n",
    "\n",
    "models = ['CNN_Baseline', 'CNN_Light', 'ParT_Baseline', 'ParT_Medium', 'ParT_Light', 'ParT_SuperLight', 'ParT_ExtremeLight']\n",
    "\n",
    "print('- Model: $(\\\\eta, N_\\\\text{step}, N_\\\\text{accum}) \\\\Rightarrow (ACC_\\\\text{test}, AUC_\\\\text{test}, E_\\\\text{early})$')\n",
    "\n",
    "for model in models:\n",
    "    for date, suffix, result_dir in [\n",
    "        ('20250627-005917', 'no_aug     ', 'result-cop_jet-flavor'),\n",
    "        ('20250629-140436', 'aug_uni_5  ', 'result-cop_jet-flavor_aug_uni_5'),\n",
    "        ('20250630-003624', 'aug_uni_10 ', 'result-cop_jet-flavor_aug_uni_10'),\n",
    "        ('20250629-210815', 'aug_rand_5 ', 'result-cop_jet-flavor_aug_rand_5'),\n",
    "        ('20250629-025748', 'aug_rand_10', 'result-cop_jet-flavor_aug_rand_10'),\n",
    "    ]:\n",
    "        # Select the checkpoint directory based on the date and model.\n",
    "        versions = os.listdir(os.path.join(result_dir, model))\n",
    "        try:\n",
    "            ckpt_dir = [v for v in versions if date in v][0]\n",
    "        except IndexError:\n",
    "            continue\n",
    "        \n",
    "        # Hyperparameters of the training.\n",
    "        _, lr, batch_size, seed = ckpt_dir.split('_')\n",
    "\n",
    "        # Read the metrics CSV file of the training result.\n",
    "        df = pd.read_csv(os.path.join(result_dir, model, ckpt_dir, 'metrics.csv'))\n",
    "        test_metrics = df.tail(1)\n",
    "\n",
    "        test_accuracy = test_metrics['test_accuracy'].item()\n",
    "        test_auc = test_metrics['test_auc'].item()\n",
    "        early_stopped_epochs = test_metrics['epoch'].item()\n",
    "        print(f\"  - {model}: ({lr}, {batch_size}) $\\\\Rightarrow$ ({test_accuracy:.3f}, {test_auc:.3f}, {early_stopped_epochs}) # ({date}) {suffix}\")"
   ]
  }
 ],
 "metadata": {
  "kernelspec": {
   "display_name": "Python 3",
   "language": "python",
   "name": "python3"
  },
  "language_info": {
   "codemirror_mode": {
    "name": "ipython",
    "version": 3
   },
   "file_extension": ".py",
   "mimetype": "text/x-python",
   "name": "python",
   "nbconvert_exporter": "python",
   "pygments_lexer": "ipython3",
   "version": "3.12.2"
  }
 },
 "nbformat": 4,
 "nbformat_minor": 5
}
