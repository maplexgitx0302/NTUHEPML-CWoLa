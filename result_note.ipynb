{
 "cells": [
  {
   "cell_type": "code",
   "execution_count": 5,
   "id": "3309f7b7",
   "metadata": {},
   "outputs": [],
   "source": [
    "import os\n",
    "\n",
    "import pandas as pd"
   ]
  },
  {
   "cell_type": "code",
   "execution_count": 6,
   "id": "8d297301",
   "metadata": {},
   "outputs": [
    {
     "name": "stdout",
     "output_type": "stream",
     "text": [
      "- Model: $(\\eta, N_\\text{step}, N_\\text{accum}) \\Rightarrow (ACC_\\text{test}, AUC_\\text{test}, E_\\text{early})$\n",
      "  - CNN_Baseline: (lr1e-05, b64x8) $\\Rightarrow$ (0.633, 0.686, 49) # (20250627-005917) no_aug     \n",
      "  - CNN_Baseline: (lr1e-05, b64x8) $\\Rightarrow$ (0.643, 0.699, 30) # (20250629-025748) aug_rand_10\n",
      "  - CNN_Light: (lr5e-04, b64x8) $\\Rightarrow$ (0.618, 0.661, 33) # (20250627-005917) no_aug     \n",
      "  - CNN_Light: (lr5e-04, b64x8) $\\Rightarrow$ (0.674, 0.731, 30) # (20250629-025748) aug_rand_10\n",
      "  - ParT_Baseline: (lr5e-05, b64x8) $\\Rightarrow$ (0.703, 0.777, 76) # (20250627-005917) no_aug     \n",
      "  - ParT_Baseline: (lr5e-05, b64x8) $\\Rightarrow$ (0.709, 0.790, 28) # (20250629-025748) aug_rand_10\n",
      "  - ParT_Medium: (lr1e-04, b64x8) $\\Rightarrow$ (0.692, 0.771, 88) # (20250627-005917) no_aug     \n"
     ]
    },
    {
     "ename": "KeyError",
     "evalue": "'test_accuracy'",
     "output_type": "error",
     "traceback": [
      "\u001b[0;31m---------------------------------------------------------------------------\u001b[0m",
      "\u001b[0;31mKeyError\u001b[0m                                  Traceback (most recent call last)",
      "File \u001b[0;32m~/.pyenv/versions/3.12.2/lib/python3.12/site-packages/pandas/core/indexes/base.py:3805\u001b[0m, in \u001b[0;36mIndex.get_loc\u001b[0;34m(self, key)\u001b[0m\n\u001b[1;32m   3804\u001b[0m \u001b[38;5;28;01mtry\u001b[39;00m:\n\u001b[0;32m-> 3805\u001b[0m     \u001b[38;5;28;01mreturn\u001b[39;00m \u001b[38;5;28;43mself\u001b[39;49m\u001b[38;5;241;43m.\u001b[39;49m\u001b[43m_engine\u001b[49m\u001b[38;5;241;43m.\u001b[39;49m\u001b[43mget_loc\u001b[49m\u001b[43m(\u001b[49m\u001b[43mcasted_key\u001b[49m\u001b[43m)\u001b[49m\n\u001b[1;32m   3806\u001b[0m \u001b[38;5;28;01mexcept\u001b[39;00m \u001b[38;5;167;01mKeyError\u001b[39;00m \u001b[38;5;28;01mas\u001b[39;00m err:\n",
      "File \u001b[0;32mindex.pyx:167\u001b[0m, in \u001b[0;36mpandas._libs.index.IndexEngine.get_loc\u001b[0;34m()\u001b[0m\n",
      "File \u001b[0;32mindex.pyx:196\u001b[0m, in \u001b[0;36mpandas._libs.index.IndexEngine.get_loc\u001b[0;34m()\u001b[0m\n",
      "File \u001b[0;32mpandas/_libs/hashtable_class_helper.pxi:7081\u001b[0m, in \u001b[0;36mpandas._libs.hashtable.PyObjectHashTable.get_item\u001b[0;34m()\u001b[0m\n",
      "File \u001b[0;32mpandas/_libs/hashtable_class_helper.pxi:7089\u001b[0m, in \u001b[0;36mpandas._libs.hashtable.PyObjectHashTable.get_item\u001b[0;34m()\u001b[0m\n",
      "\u001b[0;31mKeyError\u001b[0m: 'test_accuracy'",
      "\nThe above exception was the direct cause of the following exception:\n",
      "\u001b[0;31mKeyError\u001b[0m                                  Traceback (most recent call last)",
      "Cell \u001b[0;32mIn[6], line 30\u001b[0m\n\u001b[1;32m     27\u001b[0m df \u001b[38;5;241m=\u001b[39m pd\u001b[38;5;241m.\u001b[39mread_csv(os\u001b[38;5;241m.\u001b[39mpath\u001b[38;5;241m.\u001b[39mjoin(result_dir, model, ckpt_dir, \u001b[38;5;124m'\u001b[39m\u001b[38;5;124mmetrics.csv\u001b[39m\u001b[38;5;124m'\u001b[39m))\n\u001b[1;32m     28\u001b[0m test_metrics \u001b[38;5;241m=\u001b[39m df\u001b[38;5;241m.\u001b[39mtail(\u001b[38;5;241m1\u001b[39m)\n\u001b[0;32m---> 30\u001b[0m test_accuracy \u001b[38;5;241m=\u001b[39m \u001b[43mtest_metrics\u001b[49m\u001b[43m[\u001b[49m\u001b[38;5;124;43m'\u001b[39;49m\u001b[38;5;124;43mtest_accuracy\u001b[39;49m\u001b[38;5;124;43m'\u001b[39;49m\u001b[43m]\u001b[49m\u001b[38;5;241m.\u001b[39mitem()\n\u001b[1;32m     31\u001b[0m test_auc \u001b[38;5;241m=\u001b[39m test_metrics[\u001b[38;5;124m'\u001b[39m\u001b[38;5;124mtest_auc\u001b[39m\u001b[38;5;124m'\u001b[39m]\u001b[38;5;241m.\u001b[39mitem()\n\u001b[1;32m     32\u001b[0m early_stopped_epochs \u001b[38;5;241m=\u001b[39m test_metrics[\u001b[38;5;124m'\u001b[39m\u001b[38;5;124mepoch\u001b[39m\u001b[38;5;124m'\u001b[39m]\u001b[38;5;241m.\u001b[39mitem()\n",
      "File \u001b[0;32m~/.pyenv/versions/3.12.2/lib/python3.12/site-packages/pandas/core/frame.py:4102\u001b[0m, in \u001b[0;36mDataFrame.__getitem__\u001b[0;34m(self, key)\u001b[0m\n\u001b[1;32m   4100\u001b[0m \u001b[38;5;28;01mif\u001b[39;00m \u001b[38;5;28mself\u001b[39m\u001b[38;5;241m.\u001b[39mcolumns\u001b[38;5;241m.\u001b[39mnlevels \u001b[38;5;241m>\u001b[39m \u001b[38;5;241m1\u001b[39m:\n\u001b[1;32m   4101\u001b[0m     \u001b[38;5;28;01mreturn\u001b[39;00m \u001b[38;5;28mself\u001b[39m\u001b[38;5;241m.\u001b[39m_getitem_multilevel(key)\n\u001b[0;32m-> 4102\u001b[0m indexer \u001b[38;5;241m=\u001b[39m \u001b[38;5;28;43mself\u001b[39;49m\u001b[38;5;241;43m.\u001b[39;49m\u001b[43mcolumns\u001b[49m\u001b[38;5;241;43m.\u001b[39;49m\u001b[43mget_loc\u001b[49m\u001b[43m(\u001b[49m\u001b[43mkey\u001b[49m\u001b[43m)\u001b[49m\n\u001b[1;32m   4103\u001b[0m \u001b[38;5;28;01mif\u001b[39;00m is_integer(indexer):\n\u001b[1;32m   4104\u001b[0m     indexer \u001b[38;5;241m=\u001b[39m [indexer]\n",
      "File \u001b[0;32m~/.pyenv/versions/3.12.2/lib/python3.12/site-packages/pandas/core/indexes/base.py:3812\u001b[0m, in \u001b[0;36mIndex.get_loc\u001b[0;34m(self, key)\u001b[0m\n\u001b[1;32m   3807\u001b[0m     \u001b[38;5;28;01mif\u001b[39;00m \u001b[38;5;28misinstance\u001b[39m(casted_key, \u001b[38;5;28mslice\u001b[39m) \u001b[38;5;129;01mor\u001b[39;00m (\n\u001b[1;32m   3808\u001b[0m         \u001b[38;5;28misinstance\u001b[39m(casted_key, abc\u001b[38;5;241m.\u001b[39mIterable)\n\u001b[1;32m   3809\u001b[0m         \u001b[38;5;129;01mand\u001b[39;00m \u001b[38;5;28many\u001b[39m(\u001b[38;5;28misinstance\u001b[39m(x, \u001b[38;5;28mslice\u001b[39m) \u001b[38;5;28;01mfor\u001b[39;00m x \u001b[38;5;129;01min\u001b[39;00m casted_key)\n\u001b[1;32m   3810\u001b[0m     ):\n\u001b[1;32m   3811\u001b[0m         \u001b[38;5;28;01mraise\u001b[39;00m InvalidIndexError(key)\n\u001b[0;32m-> 3812\u001b[0m     \u001b[38;5;28;01mraise\u001b[39;00m \u001b[38;5;167;01mKeyError\u001b[39;00m(key) \u001b[38;5;28;01mfrom\u001b[39;00m \u001b[38;5;21;01merr\u001b[39;00m\n\u001b[1;32m   3813\u001b[0m \u001b[38;5;28;01mexcept\u001b[39;00m \u001b[38;5;167;01mTypeError\u001b[39;00m:\n\u001b[1;32m   3814\u001b[0m     \u001b[38;5;66;03m# If we have a listlike key, _check_indexing_error will raise\u001b[39;00m\n\u001b[1;32m   3815\u001b[0m     \u001b[38;5;66;03m#  InvalidIndexError. Otherwise we fall through and re-raise\u001b[39;00m\n\u001b[1;32m   3816\u001b[0m     \u001b[38;5;66;03m#  the TypeError.\u001b[39;00m\n\u001b[1;32m   3817\u001b[0m     \u001b[38;5;28mself\u001b[39m\u001b[38;5;241m.\u001b[39m_check_indexing_error(key)\n",
      "\u001b[0;31mKeyError\u001b[0m: 'test_accuracy'"
     ]
    }
   ],
   "source": [
    "# result_dir = 'result-original_jet-flavor'\n",
    "# date = '20250618-095124'\n",
    "\n",
    "models = ['CNN_Baseline', 'CNN_Light', 'ParT_Baseline', 'ParT_Medium', 'ParT_Light', 'ParT_SuperLight', 'ParT_ExtremeLight']\n",
    "\n",
    "print('- Model: $(\\\\eta, N_\\\\text{step}, N_\\\\text{accum}) \\\\Rightarrow (ACC_\\\\text{test}, AUC_\\\\text{test}, E_\\\\text{early})$')\n",
    "\n",
    "for model in models:\n",
    "    for date, suffix, result_dir in [\n",
    "        ('20250627-005917', 'no_aug     ', 'result-cop_jet-flavor'),\n",
    "        # ('20250626-173605', 'aug_uni_5  ', 'result-cop_jet-flavor_aug_uni_5'),\n",
    "        # ('20250627-051649', 'aug_uni_10 ', 'result-cop_jet-flavor_aug_uni_10'),\n",
    "        # ('20250627-112145', 'aug_rand_5 ', 'result-cop_jet-flavor_aug_rand_5'),\n",
    "        ('20250629-025748', 'aug_rand_10', 'result-cop_jet-flavor_aug_rand_10'),\n",
    "    ]:\n",
    "        # Select the checkpoint directory based on the date and model.\n",
    "        versions = os.listdir(os.path.join(result_dir, model))\n",
    "        try:\n",
    "            ckpt_dir = [v for v in versions if date in v][0]\n",
    "        except IndexError:\n",
    "            continue\n",
    "        \n",
    "        # Hyperparameters of the training.\n",
    "        _, lr, batch_size, seed = ckpt_dir.split('_')\n",
    "\n",
    "        # Read the metrics CSV file of the training result.\n",
    "        df = pd.read_csv(os.path.join(result_dir, model, ckpt_dir, 'metrics.csv'))\n",
    "        test_metrics = df.tail(1)\n",
    "\n",
    "        test_accuracy = test_metrics['test_accuracy'].item()\n",
    "        test_auc = test_metrics['test_auc'].item()\n",
    "        early_stopped_epochs = test_metrics['epoch'].item()\n",
    "        print(f\"  - {model}: ({lr}, {batch_size}) $\\\\Rightarrow$ ({test_accuracy:.3f}, {test_auc:.3f}, {early_stopped_epochs}) # ({date}) {suffix}\")"
   ]
  }
 ],
 "metadata": {
  "kernelspec": {
   "display_name": "Python 3",
   "language": "python",
   "name": "python3"
  },
  "language_info": {
   "codemirror_mode": {
    "name": "ipython",
    "version": 3
   },
   "file_extension": ".py",
   "mimetype": "text/x-python",
   "name": "python",
   "nbconvert_exporter": "python",
   "pygments_lexer": "ipython3",
   "version": "3.12.2"
  }
 },
 "nbformat": 4,
 "nbformat_minor": 5
}
