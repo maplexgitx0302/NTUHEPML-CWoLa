{
 "cells": [
  {
   "cell_type": "code",
   "execution_count": 16,
   "id": "3309f7b7",
   "metadata": {},
   "outputs": [],
   "source": [
    "import os\n",
    "\n",
    "import pandas as pd"
   ]
  },
  {
   "cell_type": "code",
   "execution_count": 17,
   "id": "8d297301",
   "metadata": {},
   "outputs": [
    {
     "name": "stdout",
     "output_type": "stream",
     "text": [
      "- Model: $(\\eta, N_\\text{step}, N_\\text{accum}) \\Rightarrow (ACC_\\text{test}, AUC_\\text{test}, E_\\text{early})$\n",
      "  - CNN_Baseline: (lr1e-05, b64x8) $\\Rightarrow$ (0.630, 0.674, 47) # (20250616-212748) in_decay\n",
      "  - CNN_Baseline: (lr1e-05, b64x8) $\\Rightarrow$ (0.673, 0.729, 47) # (20250630-191524) ex_decay\n",
      "  - CNN_Light: (lr5e-05, b64x8) $\\Rightarrow$ (0.615, 0.654, 66) # (20250616-212748) in_decay\n",
      "  - CNN_Light: (lr5e-04, b64x8) $\\Rightarrow$ (0.654, 0.702, 29) # (20250630-191524) ex_decay\n",
      "  - ParT_Baseline: (lr1e-05, b64x8) $\\Rightarrow$ (0.685, 0.752, 94) # (20250616-212748) in_decay\n",
      "  - ParT_Baseline: (lr5e-05, b64x8) $\\Rightarrow$ (0.696, 0.760, 86) # (20250617-092802) in_decay\n",
      "  - ParT_Baseline: (lr5e-05, b64x8) $\\Rightarrow$ (0.722, 0.798, 59) # (20250630-191524) ex_decay\n",
      "  - ParT_Medium: (lr1e-05, b64x8) $\\Rightarrow$ (0.685, 0.748, 100) # (20250616-212748) in_decay\n",
      "  - ParT_Medium: (lr5e-05, b64x8) $\\Rightarrow$ (0.683, 0.759, 77) # (20250617-092802) in_decay\n",
      "  - ParT_Medium: (lr1e-04, b64x8) $\\Rightarrow$ (0.709, 0.776, 74) # (20250630-191524) ex_decay\n",
      "  - ParT_Light: (lr1e-04, b64x8) $\\Rightarrow$ (0.686, 0.754, 90) # (20250616-212748) in_decay\n",
      "  - ParT_Light: (lr1e-03, b64x8) $\\Rightarrow$ (0.698, 0.768, 55) # (20250617-092802) in_decay\n",
      "  - ParT_Light: (lr5e-04, b64x8) $\\Rightarrow$ (0.715, 0.789, 61) # (20250630-191524) ex_decay\n",
      "  - ParT_SuperLight: (lr1e-04, b64x8) $\\Rightarrow$ (0.696, 0.767, 83) # (20250616-212748) in_decay\n",
      "  - ParT_SuperLight: (lr1e-03, b64x8) $\\Rightarrow$ (0.684, 0.754, 79) # (20250617-092802) in_decay\n",
      "  - ParT_SuperLight: (lr1e-03, b64x8) $\\Rightarrow$ (0.708, 0.777, 59) # (20250630-191524) ex_decay\n",
      "  - ParT_ExtremeLight: (lr5e-04, b64x8) $\\Rightarrow$ (0.682, 0.746, 100) # (20250616-212748) in_decay\n",
      "  - ParT_ExtremeLight: (lr5e-03, b64x8) $\\Rightarrow$ (0.685, 0.748, 100) # (20250617-092802) in_decay\n",
      "  - ParT_ExtremeLight: (lr5e-03, b64x8) $\\Rightarrow$ (0.697, 0.762, 100) # (20250630-191524) ex_decay\n"
     ]
    }
   ],
   "source": [
    "# result_dir = 'result-original_jet-flavor'\n",
    "# date = '20250618-095124'\n",
    "\n",
    "models = ['CNN_Baseline', 'CNN_Light', 'ParT_Baseline', 'ParT_Medium', 'ParT_Light', 'ParT_SuperLight', 'ParT_ExtremeLight']\n",
    "\n",
    "print('- Model: $(\\\\eta, N_\\\\text{step}, N_\\\\text{accum}) \\\\Rightarrow (ACC_\\\\text{test}, AUC_\\\\text{test}, E_\\\\text{early})$')\n",
    "\n",
    "for model in models:\n",
    "    for date, suffix, result_dir in [\n",
    "        ('20250616-212748', 'in_decay', 'result-original_jet-flavor'),\n",
    "        ('20250617-092802', 'in_decay', 'result-original_jet-flavor'),\n",
    "        ('20250630-191524', 'ex_decay', 'result-ex_decay_jet-flavor'),\n",
    "\n",
    "        # ('20250627-005917', 'no_aug     ', 'result-cop_jet-flavor'),\n",
    "        # ('20250629-140436', 'aug_uni_5  ', 'result-cop_jet-flavor_aug_uni_5'),\n",
    "        # ('20250630-003624', 'aug_uni_10 ', 'result-cop_jet-flavor_aug_uni_10'),\n",
    "        # ('20250629-210815', 'aug_rand_5 ', 'result-cop_jet-flavor_aug_rand_5'),\n",
    "        # ('20250629-025748', 'aug_rand_10', 'result-cop_jet-flavor_aug_rand_10'),\n",
    "    ]:\n",
    "        # Select the checkpoint directory based on the date and model.\n",
    "        versions = os.listdir(os.path.join(result_dir, model))\n",
    "        try:\n",
    "            ckpt_dir = [v for v in versions if date in v][0]\n",
    "        except IndexError:\n",
    "            continue\n",
    "\n",
    "        \n",
    "        # Hyperparameters of the training.\n",
    "        _, lr, batch_size, seed = ckpt_dir.split('_')\n",
    "\n",
    "        # Read the metrics CSV file of the training result.\n",
    "        df = pd.read_csv(os.path.join(result_dir, model, ckpt_dir, 'metrics.csv'))\n",
    "        test_metrics = df.tail(1)\n",
    "\n",
    "        test_accuracy = test_metrics['test_accuracy'].item()\n",
    "        test_auc = test_metrics['test_auc'].item()\n",
    "        early_stopped_epochs = test_metrics['epoch'].item()\n",
    "        print(f\"  - {model}: ({lr}, {batch_size}) $\\\\Rightarrow$ ({test_accuracy:.3f}, {test_auc:.3f}, {early_stopped_epochs}) # ({date}) {suffix}\")"
   ]
  }
 ],
 "metadata": {
  "kernelspec": {
   "display_name": "Python 3",
   "language": "python",
   "name": "python3"
  },
  "language_info": {
   "codemirror_mode": {
    "name": "ipython",
    "version": 3
   },
   "file_extension": ".py",
   "mimetype": "text/x-python",
   "name": "python",
   "nbconvert_exporter": "python",
   "pygments_lexer": "ipython3",
   "version": "3.12.2"
  }
 },
 "nbformat": 4,
 "nbformat_minor": 5
}
